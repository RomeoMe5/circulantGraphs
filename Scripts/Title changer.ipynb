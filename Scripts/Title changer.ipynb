{
 "cells": [
  {
   "cell_type": "code",
   "execution_count": 7,
   "id": "1c9f5c00",
   "metadata": {},
   "outputs": [],
   "source": [
    "import pandas as pd \n",
    "import os"
   ]
  },
  {
   "cell_type": "code",
   "execution_count": 43,
   "id": "b2a79b16",
   "metadata": {},
   "outputs": [
    {
     "data": {
      "text/plain": [
       "array([' 275);17;11.06545;48;1102'], dtype=object)"
      ]
     },
     "execution_count": 43,
     "metadata": {},
     "output_type": "execute_result"
    }
   ],
   "source": [
    "df = pd.read_csv(r\"C:\\Users\\Иван\\Desktop\\PCG\\circulantGraphs\\Output\\Dimension 2\\Optimal\\2-530-1023\\2-551.csv\")  \n",
    "df.iloc[3].values"
   ]
  },
  {
   "cell_type": "code",
   "execution_count": 155,
   "id": "6ee78b41",
   "metadata": {},
   "outputs": [],
   "source": [
    "for i in range(685,686):\n",
    "    ans = ''\n",
    "    for j in range(5 - len(str(i))):\n",
    "        ans = ''.join(('0', ans))\n",
    "    old_file = os.path.join(r\"C:\\Users\\Иван\\Desktop\\PCG\\circulantGraphs\\Output\\Dimension 5\\optimal circulant\", \n",
    "                            \"5-{}.csv\".format(i))\n",
    "    new_file = os.path.join(r\"C:\\Users\\Иван\\Desktop\\PCG\\circulantGraphs\\Output\\Dimension 5\\optimal circulant\",\n",
    "                            \"5-{}.csv\".format(ans + str(i)))\n",
    "    os.rename(old_file, new_file)"
   ]
  },
  {
   "cell_type": "code",
   "execution_count": 21,
   "id": "61dbbee3",
   "metadata": {},
   "outputs": [
    {
     "name": "stdout",
     "output_type": "stream",
     "text": [
      "00250\n"
     ]
    }
   ],
   "source": [
    "ans = ''\n",
    "for i in range(5 - len(str(250))):\n",
    "   ans = ''.join(('0', ans))\n",
    "print(ans + str(250))"
   ]
  },
  {
   "cell_type": "code",
   "execution_count": null,
   "id": "9ac4e760",
   "metadata": {},
   "outputs": [],
   "source": []
  }
 ],
 "metadata": {
  "kernelspec": {
   "display_name": "Python 3",
   "language": "python",
   "name": "python3"
  },
  "language_info": {
   "codemirror_mode": {
    "name": "ipython",
    "version": 3
   },
   "file_extension": ".py",
   "mimetype": "text/x-python",
   "name": "python",
   "nbconvert_exporter": "python",
   "pygments_lexer": "ipython3",
   "version": "3.8.10"
  }
 },
 "nbformat": 4,
 "nbformat_minor": 5
}
